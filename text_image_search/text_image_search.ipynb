{
 "cells": [
  {
   "cell_type": "code",
   "execution_count": 1,
   "id": "26eb144a",
   "metadata": {
    "scrolled": false
   },
   "outputs": [
    {
     "name": "stdout",
     "output_type": "stream",
     "text": [
      "/usr/bin/python: No module named pip\r\n"
     ]
    }
   ],
   "source": [
    "! python -m pip install -q towhee gradio opencv-python"
   ]
  },
  {
   "cell_type": "markdown",
   "id": "107bd44f",
   "metadata": {},
   "source": [
    "### Prepare the data"
   ]
  },
  {
   "cell_type": "code",
   "execution_count": 2,
   "id": "486b313e",
   "metadata": {
    "scrolled": true
   },
   "outputs": [
    {
     "name": "stdout",
     "output_type": "stream",
     "text": [
      "  % Total    % Received % Xferd  Average Speed   Time    Time     Time  Current\n",
      "                                 Dload  Upload   Total   Spent    Left  Speed\n",
      "  0     0    0     0    0     0      0      0 --:--:-- --:--:-- --:--:--     0\n",
      "100  119M  100  119M    0     0  9964k      0  0:00:12  0:00:12 --:--:-- 11.1M\n"
     ]
    }
   ],
   "source": [
    "! curl -L https://github.com/towhee-io/examples/releases/download/data/reverse_image_search.zip -O\n",
    "! unzip -q -o reverse_image_search.zip"
   ]
  },
  {
   "cell_type": "code",
   "execution_count": 1,
   "id": "5e16fc92",
   "metadata": {},
   "outputs": [
    {
     "data": {
      "text/html": [
       "<div>\n",
       "<style scoped>\n",
       "    .dataframe tbody tr th:only-of-type {\n",
       "        vertical-align: middle;\n",
       "    }\n",
       "\n",
       "    .dataframe tbody tr th {\n",
       "        vertical-align: top;\n",
       "    }\n",
       "\n",
       "    .dataframe thead th {\n",
       "        text-align: right;\n",
       "    }\n",
       "</style>\n",
       "<table border=\"1\" class=\"dataframe\">\n",
       "  <thead>\n",
       "    <tr style=\"text-align: right;\">\n",
       "      <th></th>\n",
       "      <th>id</th>\n",
       "      <th>path</th>\n",
       "      <th>label</th>\n",
       "    </tr>\n",
       "  </thead>\n",
       "  <tbody>\n",
       "    <tr>\n",
       "      <th>0</th>\n",
       "      <td>0</td>\n",
       "      <td>./train/brain_coral/n01917289_1783.JPEG</td>\n",
       "      <td>brain_coral</td>\n",
       "    </tr>\n",
       "    <tr>\n",
       "      <th>1</th>\n",
       "      <td>1</td>\n",
       "      <td>./train/brain_coral/n01917289_4317.JPEG</td>\n",
       "      <td>brain_coral</td>\n",
       "    </tr>\n",
       "    <tr>\n",
       "      <th>2</th>\n",
       "      <td>2</td>\n",
       "      <td>./train/brain_coral/n01917289_765.JPEG</td>\n",
       "      <td>brain_coral</td>\n",
       "    </tr>\n",
       "    <tr>\n",
       "      <th>3</th>\n",
       "      <td>3</td>\n",
       "      <td>./train/brain_coral/n01917289_1079.JPEG</td>\n",
       "      <td>brain_coral</td>\n",
       "    </tr>\n",
       "    <tr>\n",
       "      <th>4</th>\n",
       "      <td>4</td>\n",
       "      <td>./train/brain_coral/n01917289_2484.JPEG</td>\n",
       "      <td>brain_coral</td>\n",
       "    </tr>\n",
       "  </tbody>\n",
       "</table>\n",
       "</div>"
      ],
      "text/plain": [
       "   id                                     path        label\n",
       "0   0  ./train/brain_coral/n01917289_1783.JPEG  brain_coral\n",
       "1   1  ./train/brain_coral/n01917289_4317.JPEG  brain_coral\n",
       "2   2   ./train/brain_coral/n01917289_765.JPEG  brain_coral\n",
       "3   3  ./train/brain_coral/n01917289_1079.JPEG  brain_coral\n",
       "4   4  ./train/brain_coral/n01917289_2484.JPEG  brain_coral"
      ]
     },
     "execution_count": 1,
     "metadata": {},
     "output_type": "execute_result"
    }
   ],
   "source": [
    "\n",
    "\n",
    "import pandas as pd\n",
    "\n",
    "df = pd.read_csv('reverse_image_search.csv')\n",
    "df.head()\n",
    "\n"
   ]
  },
  {
   "cell_type": "code",
   "execution_count": 2,
   "id": "a16a0320",
   "metadata": {},
   "outputs": [],
   "source": [
    "\n",
    "\n",
    "import cv2\n",
    "from towhee.types.image import Image\n",
    "\n",
    "id_img = df.set_index('id')['path'].to_dict()\n",
    "def read_images(results):\n",
    "    imgs = []\n",
    "    for re in results:\n",
    "        path = id_img[re.id]\n",
    "        imgs.append(Image(cv2.imread(path), 'BGR'))\n",
    "    return imgs\n",
    "\n"
   ]
  },
  {
   "cell_type": "markdown",
   "id": "4092e21e",
   "metadata": {},
   "source": [
    "### Create a Milvus Collection"
   ]
  },
  {
   "cell_type": "code",
   "execution_count": 3,
   "id": "417deed6",
   "metadata": {},
   "outputs": [],
   "source": [
    "from pymilvus import connections, FieldSchema, CollectionSchema, DataType, Collection, utility\n",
    "\n",
    "def create_milvus_collection(collection_name, dim):\n",
    "    connections.connect(host='127.0.0.1', port='19530')\n",
    "    \n",
    "    if utility.has_collection(collection_name):\n",
    "        utility.drop_collection(collection_name)\n",
    "    \n",
    "    fields = [\n",
    "    FieldSchema(name='path', dtype=DataType.VARCHAR, description='path to image', max_length=500, \n",
    "                    is_primary=True, auto_id=False),\n",
    "    FieldSchema(name='embedding', dtype=DataType.FLOAT_VECTOR, descrition='embedding vectors', dim=dim)\n",
    "    ]\n",
    "    schema = CollectionSchema(fields=fields, description='text image search')\n",
    "    collection = Collection(name=collection_name, schema=schema)\n",
    "\n",
    "    # create IVF_FLAT index for collection.\n",
    "    index_params = {\n",
    "        'metric_type':'L2',\n",
    "        'index_type':\"IVF_FLAT\",\n",
    "        'params':{\"nlist\":512}\n",
    "    }\n",
    "    collection.create_index(field_name=\"embedding\", index_params=index_params)\n",
    "    return collection\n",
    "\n",
    "#collection = create_milvus_collection('text_image_search', 512)"
   ]
  },
  {
   "cell_type": "code",
   "execution_count": 4,
   "id": "1cea82bd",
   "metadata": {},
   "outputs": [],
   "source": [
    "from pymilvus import Collection, utility\n",
    "connections.connect(host='127.0.0.1', port='19530')\n",
    "\n",
    "collection = create_milvus_collection('text_image_search', 512)"
   ]
  },
  {
   "cell_type": "markdown",
   "id": "02d0cf09",
   "metadata": {},
   "source": [
    "## Text Image Search"
   ]
  },
  {
   "cell_type": "code",
   "execution_count": 5,
   "id": "8fd3c64e",
   "metadata": {},
   "outputs": [],
   "source": [
    "\n",
    "\n",
    "from towhee import ops, pipe, DataCollection\n",
    "import numpy as np\n",
    "\n"
   ]
  },
  {
   "cell_type": "code",
   "execution_count": 6,
   "id": "9e531941",
   "metadata": {},
   "outputs": [
    {
     "data": {
      "text/html": [
       "<table style=\"border-collapse: collapse;\"><tr><th style=\"text-align: center; font-size: 130%; border: none;\">img</th> <th style=\"text-align: center; font-size: 130%; border: none;\">vec</th></tr> <tr><td style=\"text-align: center; vertical-align: center; border-right: solid 1px #D3D3D3; border-left: solid 1px #D3D3D3; \"><img src=\"data:image/png;base64,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\" 128 = \"128px\" 128 = \"128px\" style = \"float:left; padding:2px\"></td> <td style=\"text-align: left; vertical-align: center; border-right: solid 1px #D3D3D3; border-left: solid 1px #D3D3D3; \">[0.03724054, -0.06598868, -0.010860419, ...] shape=(512,)</td></tr></table>"
      ],
      "text/plain": [
       "<IPython.core.display.HTML object>"
      ]
     },
     "metadata": {},
     "output_type": "display_data"
    }
   ],
   "source": [
    "\n",
    "\n",
    "p = (\n",
    "    pipe.input('path')\n",
    "    .map('path', 'img', ops.image_decode.cv2('rgb'))\n",
    "    .map('img', 'vec', ops.image_text_embedding.clip(model_name='clip_vit_base_patch16', modality='image'))\n",
    "    .map('vec', 'vec', lambda x: x / np.linalg.norm(x))\n",
    "    .output('img', 'vec')\n",
    ")\n",
    "\n",
    "DataCollection(p('./teddy.png')).show()\n",
    "\n"
   ]
  },
  {
   "cell_type": "code",
   "execution_count": 7,
   "id": "2f6f1434",
   "metadata": {},
   "outputs": [
    {
     "data": {
      "text/html": [
       "<table style=\"border-collapse: collapse;\"><tr><th style=\"text-align: center; font-size: 130%; border: none;\">text</th> <th style=\"text-align: center; font-size: 130%; border: none;\">vec</th></tr> <tr><td style=\"text-align: center; vertical-align: center; border-right: solid 1px #D3D3D3; border-left: solid 1px #D3D3D3; \">A teddybear on a skateboard in Times Square.</td> <td style=\"text-align: left; vertical-align: center; border-right: solid 1px #D3D3D3; border-left: solid 1px #D3D3D3; \">[-0.008685378, 0.027176848, -0.0007425783, ...] shape=(512,)</td></tr></table>"
      ],
      "text/plain": [
       "<IPython.core.display.HTML object>"
      ]
     },
     "metadata": {},
     "output_type": "display_data"
    }
   ],
   "source": [
    "\n",
    "\n",
    "p2 = (\n",
    "    pipe.input('text')\n",
    "    .map('text', 'vec', ops.image_text_embedding.clip(model_name='clip_vit_base_patch16', modality='text'))\n",
    "    .map('vec', 'vec', lambda x: x / np.linalg.norm(x))\n",
    "    .output('text', 'vec')\n",
    ")\n",
    "\n",
    "DataCollection(p2(\"A teddybear on a skateboard in Times Square.\")).show()\n",
    "\n"
   ]
  },
  {
   "cell_type": "markdown",
   "id": "b9eaadde",
   "metadata": {},
   "source": [
    "### Load Image Embeddings into Milvus"
   ]
  },
  {
   "cell_type": "code",
   "execution_count": 8,
   "id": "b05a9b32",
   "metadata": {},
   "outputs": [
    {
     "name": "stdout",
     "output_type": "stream",
     "text": [
      "CPU times: user 23.4 s, sys: 9.22 s, total: 32.6 s\n",
      "Wall time: 17.6 s\n"
     ]
    }
   ],
   "source": [
    "%%time\n",
    "collection = create_milvus_collection('text_image_search', 512)\n",
    "\n",
    "def read_csv(csv_path, encoding='utf-8-sig'):\n",
    "    import csv\n",
    "    with open(csv_path, 'r', encoding=encoding) as f:\n",
    "        data = csv.DictReader(f)\n",
    "        for line in data:\n",
    "            yield int(line['id']), line['path']\n",
    "\n",
    "p3 = (\n",
    "    pipe.input('csv_file')\n",
    "    .flat_map('csv_file', ('id', 'path'), read_csv)\n",
    "    .map('path', 'img', ops.image_decode.cv2('rgb'))\n",
    "    .map('img', 'vec', ops.image_text_embedding.clip(model_name='clip_vit_base_patch16', modality='image', device=0))\n",
    "    .map('vec', 'vec', lambda x: x / np.linalg.norm(x))\n",
    "    .map(('path', 'vec'), (), ops.ann_insert.milvus_client(host='127.0.0.1', port='19530', collection_name='text_image_search'))\n",
    "    .output()\n",
    ")\n",
    "\n",
    "ret = p3('reverse_image_search.csv')"
   ]
  },
  {
   "cell_type": "code",
   "execution_count": 9,
   "id": "ecbdb576",
   "metadata": {},
   "outputs": [],
   "source": [
    "collection.load()"
   ]
  },
  {
   "cell_type": "code",
   "execution_count": 10,
   "id": "517be289",
   "metadata": {},
   "outputs": [
    {
     "name": "stdout",
     "output_type": "stream",
     "text": [
      "Total number of inserted data is 0.\n"
     ]
    }
   ],
   "source": [
    "print('Total number of inserted data is {}.'.format(collection.num_entities))"
   ]
  },
  {
   "cell_type": "code",
   "execution_count": 11,
   "id": "7d418b79",
   "metadata": {},
   "outputs": [
    {
     "data": {
      "text/plain": [
       "['text_image_search',\n",
       " 'reverse_image_search',\n",
       " 'text_image_search_blip',\n",
       " 'image_search_collection']"
      ]
     },
     "execution_count": 11,
     "metadata": {},
     "output_type": "execute_result"
    }
   ],
   "source": [
    "from pymilvus import utility\n",
    "utility.list_collections()"
   ]
  },
  {
   "cell_type": "markdown",
   "id": "8d8b736b",
   "metadata": {},
   "source": [
    "###  Query Matched Images from Milvus\n"
   ]
  },
  {
   "cell_type": "code",
   "execution_count": 20,
   "id": "0d123aa6",
   "metadata": {},
   "outputs": [
    {
     "data": {
      "text/html": [
       "<table style=\"border-collapse: collapse;\"><tr><th style=\"text-align: center; font-size: 130%; border: none;\">text</th> <th style=\"text-align: center; font-size: 130%; border: none;\">image_ids</th></tr> <tr><td style=\"text-align: center; vertical-align: center; border-right: solid 1px #D3D3D3; border-left: solid 1px #D3D3D3; \">A variety of fruits</td> <td style=\"text-align: center; vertical-align: center; border-right: solid 1px #D3D3D3; border-left: solid 1px #D3D3D3; \"><br>./train/orange/n07747607_18447.JPEG</br> <br>./train/banana/n07753592_7688.JPEG</br> <br>./train/orange/n07747607_11283.JPEG</br> <br>./train/banana/n07753592_3043.JPEG</br> <br>./train/grocery_store/n03461385_9780.JPEG</br></td></tr></table>"
      ],
      "text/plain": [
       "<IPython.core.display.HTML object>"
      ]
     },
     "metadata": {},
     "output_type": "display_data"
    },
    {
     "data": {
      "text/html": [
       "<table style=\"border-collapse: collapse;\"><tr><th style=\"text-align: center; font-size: 130%; border: none;\">text</th> <th style=\"text-align: center; font-size: 130%; border: none;\">image_ids</th></tr> <tr><td style=\"text-align: center; vertical-align: center; border-right: solid 1px #D3D3D3; border-left: solid 1px #D3D3D3; \">jeans</td> <td style=\"text-align: center; vertical-align: center; border-right: solid 1px #D3D3D3; border-left: solid 1px #D3D3D3; \"><br>./train/jean/n03594734_4800.JPEG</br> <br>./train/jean/n03594734_16188.JPEG</br> <br>./train/jean/n03594734_38343.JPEG</br> <br>./train/jean/n03594734_24159.JPEG</br> <br>./train/jean/n03594734_32813.JPEG</br></td></tr></table>"
      ],
      "text/plain": [
       "<IPython.core.display.HTML object>"
      ]
     },
     "metadata": {},
     "output_type": "display_data"
    }
   ],
   "source": [
    "import pandas as pd\n",
    "import cv2\n",
    "\n",
    "def read_image(image_ids):\n",
    "    df = pd.read_csv('reverse_image_search.csv')\n",
    "    id_img = df.set_index('id')['path'].to_dict()\n",
    "    paths = []\n",
    "    decode = ops.image_decode.cv2('rgb')\n",
    "    for image_id in image_ids:\n",
    "        path = id_img[image_id]\n",
    "        paths.append(path)\n",
    "    return paths\n",
    "\n",
    "\n",
    "p4 = (\n",
    "    pipe.input('text')\n",
    "    .map('text', 'vec', ops.image_text_embedding.clip(model_name='clip_vit_base_patch16', modality='text'))\n",
    "    .map('vec', 'vec', lambda x: x / np.linalg.norm(x))\n",
    "    .map('vec', 'result', ops.ann_search.milvus_client(host='127.0.0.1', port='19530', collection_name='text_image_search', limit=5))\n",
    "    .map('result', 'image_ids', lambda x: [item[0] for item in x])\n",
    "    #.map('image_ids', 'images', read_image)\n",
    "    .output('text', 'image_ids')\n",
    ")\n",
    "\n",
    "DataCollection(p4(\"A variety of fruits\")).show()\n",
    "DataCollection(p4(\"jeans\")).show()"
   ]
  },
  {
   "cell_type": "code",
   "execution_count": null,
   "id": "07339fd5",
   "metadata": {},
   "outputs": [],
   "source": []
  }
 ],
 "metadata": {
  "kernelspec": {
   "display_name": "Python 3 (ipykernel)",
   "language": "python",
   "name": "python3"
  },
  "language_info": {
   "codemirror_mode": {
    "name": "ipython",
    "version": 3
   },
   "file_extension": ".py",
   "mimetype": "text/x-python",
   "name": "python",
   "nbconvert_exporter": "python",
   "pygments_lexer": "ipython3",
   "version": "3.10.12"
  }
 },
 "nbformat": 4,
 "nbformat_minor": 5
}
