{
 "cells": [
  {
   "cell_type": "code",
   "execution_count": 1,
   "id": "56f5781c",
   "metadata": {},
   "outputs": [
    {
     "name": "stdout",
     "output_type": "stream",
     "text": [
      "  % Total    % Received % Xferd  Average Speed   Time    Time     Time  Current\n",
      "                                 Dload  Upload   Total   Spent    Left  Speed\n",
      "  0     0    0     0    0     0      0      0 --:--:-- --:--:-- --:--:--     0\n",
      "100  119M  100  119M    0     0  6118k      0  0:00:20  0:00:20 --:--:-- 6324k\n"
     ]
    }
   ],
   "source": [
    "\n",
    "\n",
    "! curl -L https://github.com/towhee-io/examples/releases/download/data/reverse_image_search.zip -O\n",
    "! unzip -q -o reverse_image_search.zip\n",
    "\n"
   ]
  },
  {
   "cell_type": "code",
   "execution_count": 1,
   "id": "3261c07b",
   "metadata": {},
   "outputs": [
    {
     "name": "stderr",
     "output_type": "stream",
     "text": [
      "/home/kasim/anaconda3/envs/milvus/lib/python3.12/site-packages/tqdm/auto.py:21: TqdmWarning: IProgress not found. Please update jupyter and ipywidgets. See https://ipywidgets.readthedocs.io/en/stable/user_install.html\n",
      "  from .autonotebook import tqdm as notebook_tqdm\n"
     ]
    }
   ],
   "source": [
    "from PIL import Image\n",
    "import pandas as pd\n",
    "import torch\n",
    "from transformers import CLIPProcessor, CLIPModel\n",
    "import numpy as np\n",
    "\n",
    "\n",
    "# Load the dataset\n",
    "dataset_path = 'reverse_image_search.csv'  # Replace with your dataset path\n",
    "df = pd.read_csv(dataset_path)\n",
    "\n",
    "# Load the CLIP model and processor\n",
    "model = CLIPModel.from_pretrained(\"openai/clip-vit-base-patch16\")\n",
    "processor = CLIPProcessor.from_pretrained(\"openai/clip-vit-base-patch16\")\n",
    "\n",
    "\n"
   ]
  },
  {
   "cell_type": "code",
   "execution_count": 2,
   "id": "7911ae39",
   "metadata": {},
   "outputs": [],
   "source": [
    "# Initialize a list to store tensors\n",
    "embeddings = []\n",
    "\n",
    "for index, row in df.iterrows():\n",
    "    image_path = row['path']  # Assuming the path is in a column named 'path'\n",
    "    image = Image.open(image_path).convert('RGB')  # Ensure image is in RGB\n",
    "    inputs = processor(images=image, return_tensors=\"pt\")\n",
    "    image_features = model.get_image_features(**inputs)\n",
    "    # Ensure the tensor is detached from the computational graph before converting\n",
    "    embedding = image_features.squeeze(0).detach().numpy().tolist()\n",
    "    embedding = embedding/np.linalg.norm(embedding)\n",
    "\n",
    "    embeddings.append(embedding)\n",
    "\n",
    "# Concatenate all feature vectors into a single tensor\n",
    "#image_features_tensor = torch.stack(embeddings)\n",
    "\n",
    "# image_features_tensor now contains the feature vectors for all images in your dataset>"
   ]
  },
  {
   "cell_type": "code",
   "execution_count": 3,
   "id": "c170adba",
   "metadata": {},
   "outputs": [],
   "source": [
    "from pymilvus import connections, FieldSchema, CollectionSchema, DataType, Collection, utility\n",
    "\n",
    "# Milvus parameters\n",
    "HOST = '127.0.0.1'\n",
    "PORT = '19530'\n",
    "TOPK = 13"
   ]
  },
  {
   "cell_type": "code",
   "execution_count": null,
   "id": "6106ef16",
   "metadata": {},
   "outputs": [],
   "source": []
  },
  {
   "cell_type": "code",
   "execution_count": 4,
   "id": "424c5a37",
   "metadata": {},
   "outputs": [],
   "source": [
    "def create_milvus_collection(collection_name, dim):\n",
    "    if utility.has_collection(collection_name):\n",
    "        utility.drop_collection(collection_name)\n",
    "    \n",
    "    fields = [\n",
    "        FieldSchema(name='path', dtype=DataType.VARCHAR, description='path to image', max_length=500, \n",
    "                    is_primary=True, auto_id=False),\n",
    "        FieldSchema(name='embedding', dtype=DataType.FLOAT_VECTOR, description='image embedding vectors', dim=dim)\n",
    "    ]\n",
    "    schema = CollectionSchema(fields=fields, description='reverse image search')\n",
    "    collection = Collection(name=collection_name, schema=schema)\n",
    "\n",
    "    index_params = {\n",
    "        'metric_type': METRIC_TYPE,\n",
    "        'index_type': INDEX_TYPE,\n",
    "        'params': {\"nlist\": 512}\n",
    "    }\n",
    "    collection.create_index(field_name='embedding', index_params=index_params)\n",
    "    return collection"
   ]
  },
  {
   "cell_type": "code",
   "execution_count": 5,
   "id": "e33d01b8",
   "metadata": {},
   "outputs": [],
   "source": [
    "connections.connect(host=HOST, port=PORT)\n",
    "collection_name = 'eucledian_collection'\n",
    "dim = 512  # Dimension of the embeddings\n",
    "METRIC_TYPE = 'L2'  # You can choose 'L2', 'IP', etc., based on your requirement\n",
    "INDEX_TYPE = 'IVF_FLAT'  # Index type"
   ]
  },
  {
   "cell_type": "code",
   "execution_count": 6,
   "id": "6e354bde",
   "metadata": {},
   "outputs": [],
   "source": [
    "collection = create_milvus_collection(collection_name, dim)\n",
    "paths = df['path'].tolist()\n",
    "entities = [[path for path in paths],\n",
    "            [embedding for embedding in embeddings]]\n",
    "mr = collection.insert(entities)\n"
   ]
  },
  {
   "cell_type": "code",
   "execution_count": 7,
   "id": "3d344c42",
   "metadata": {},
   "outputs": [],
   "source": [
    "connections.connect(host=HOST, port=PORT)\n",
    "collection_name = 'cos_collection'\n",
    "dim = 512  # Dimension of the embeddings\n",
    "METRIC_TYPE = 'COSINE'  # You can choose 'L2', 'IP', etc., based on your requirement\n",
    "INDEX_TYPE = 'IVF_PQ'  # Index type"
   ]
  },
  {
   "cell_type": "code",
   "execution_count": 9,
   "id": "3298ab24",
   "metadata": {},
   "outputs": [
    {
     "name": "stderr",
     "output_type": "stream",
     "text": [
      "RPC error: [create_index], <MilvusException: (code=65535, message=parameter `m` not found)>, <Time:{'RPC start': '2024-05-14 23:30:59.340542', 'RPC error': '2024-05-14 23:30:59.344843'}>\n"
     ]
    },
    {
     "ename": "MilvusException",
     "evalue": "<MilvusException: (code=65535, message=parameter `m` not found)>",
     "output_type": "error",
     "traceback": [
      "\u001b[0;31m---------------------------------------------------------------------------\u001b[0m",
      "\u001b[0;31mMilvusException\u001b[0m                           Traceback (most recent call last)",
      "    \u001b[0;31m[... skipping hidden 1 frame]\u001b[0m\n",
      "Cell \u001b[0;32mIn[9], line 1\u001b[0m\n\u001b[0;32m----> 1\u001b[0m collection \u001b[38;5;241m=\u001b[39m create_milvus_collection(collection_name, dim)\n\u001b[1;32m      2\u001b[0m paths \u001b[38;5;241m=\u001b[39m df[\u001b[38;5;124m'\u001b[39m\u001b[38;5;124mpath\u001b[39m\u001b[38;5;124m'\u001b[39m]\u001b[38;5;241m.\u001b[39mtolist()\n",
      "Cell \u001b[0;32mIn[4], line 18\u001b[0m, in \u001b[0;36mcreate_milvus_collection\u001b[0;34m(collection_name, dim)\u001b[0m\n\u001b[1;32m     13\u001b[0m index_params \u001b[38;5;241m=\u001b[39m {\n\u001b[1;32m     14\u001b[0m     \u001b[38;5;124m'\u001b[39m\u001b[38;5;124mmetric_type\u001b[39m\u001b[38;5;124m'\u001b[39m: METRIC_TYPE,\n\u001b[1;32m     15\u001b[0m     \u001b[38;5;124m'\u001b[39m\u001b[38;5;124mindex_type\u001b[39m\u001b[38;5;124m'\u001b[39m: INDEX_TYPE,\n\u001b[1;32m     16\u001b[0m     \u001b[38;5;124m'\u001b[39m\u001b[38;5;124mparams\u001b[39m\u001b[38;5;124m'\u001b[39m: {\u001b[38;5;124m\"\u001b[39m\u001b[38;5;124mnlist\u001b[39m\u001b[38;5;124m\"\u001b[39m: \u001b[38;5;241m512\u001b[39m}\n\u001b[1;32m     17\u001b[0m }\n\u001b[0;32m---> 18\u001b[0m collection\u001b[38;5;241m.\u001b[39mcreate_index(field_name\u001b[38;5;241m=\u001b[39m\u001b[38;5;124m'\u001b[39m\u001b[38;5;124membedding\u001b[39m\u001b[38;5;124m'\u001b[39m, index_params\u001b[38;5;241m=\u001b[39mindex_params)\n\u001b[1;32m     19\u001b[0m \u001b[38;5;28;01mreturn\u001b[39;00m collection\n",
      "File \u001b[0;32m~/anaconda3/envs/milvus/lib/python3.12/site-packages/pymilvus/orm/collection.py:1218\u001b[0m, in \u001b[0;36mCollection.create_index\u001b[0;34m(self, field_name, index_params, timeout, **kwargs)\u001b[0m\n\u001b[1;32m   1217\u001b[0m conn \u001b[38;5;241m=\u001b[39m \u001b[38;5;28mself\u001b[39m\u001b[38;5;241m.\u001b[39m_get_connection()\n\u001b[0;32m-> 1218\u001b[0m \u001b[38;5;28;01mreturn\u001b[39;00m conn\u001b[38;5;241m.\u001b[39mcreate_index(\u001b[38;5;28mself\u001b[39m\u001b[38;5;241m.\u001b[39m_name, field_name, index_params, timeout\u001b[38;5;241m=\u001b[39mtimeout, \u001b[38;5;241m*\u001b[39m\u001b[38;5;241m*\u001b[39mkwargs)\n",
      "File \u001b[0;32m~/anaconda3/envs/milvus/lib/python3.12/site-packages/pymilvus/decorators.py:135\u001b[0m, in \u001b[0;36merror_handler.<locals>.wrapper.<locals>.handler\u001b[0;34m(*args, **kwargs)\u001b[0m\n\u001b[1;32m    134\u001b[0m     LOGGER\u001b[38;5;241m.\u001b[39merror(\u001b[38;5;124mf\u001b[39m\u001b[38;5;124m\"\u001b[39m\u001b[38;5;124mRPC error: [\u001b[39m\u001b[38;5;132;01m{\u001b[39;00minner_name\u001b[38;5;132;01m}\u001b[39;00m\u001b[38;5;124m], \u001b[39m\u001b[38;5;132;01m{\u001b[39;00me\u001b[38;5;132;01m}\u001b[39;00m\u001b[38;5;124m, <Time:\u001b[39m\u001b[38;5;132;01m{\u001b[39;00mrecord_dict\u001b[38;5;132;01m}\u001b[39;00m\u001b[38;5;124m>\u001b[39m\u001b[38;5;124m\"\u001b[39m)\n\u001b[0;32m--> 135\u001b[0m     \u001b[38;5;28;01mraise\u001b[39;00m e \u001b[38;5;28;01mfrom\u001b[39;00m \u001b[38;5;21;01me\u001b[39;00m\n\u001b[1;32m    136\u001b[0m \u001b[38;5;28;01mexcept\u001b[39;00m grpc\u001b[38;5;241m.\u001b[39mFutureTimeoutError \u001b[38;5;28;01mas\u001b[39;00m e:\n",
      "File \u001b[0;32m~/anaconda3/envs/milvus/lib/python3.12/site-packages/pymilvus/decorators.py:131\u001b[0m, in \u001b[0;36merror_handler.<locals>.wrapper.<locals>.handler\u001b[0;34m(*args, **kwargs)\u001b[0m\n\u001b[1;32m    130\u001b[0m     record_dict[\u001b[38;5;124m\"\u001b[39m\u001b[38;5;124mRPC start\u001b[39m\u001b[38;5;124m\"\u001b[39m] \u001b[38;5;241m=\u001b[39m \u001b[38;5;28mstr\u001b[39m(datetime\u001b[38;5;241m.\u001b[39mdatetime\u001b[38;5;241m.\u001b[39mnow())\n\u001b[0;32m--> 131\u001b[0m     \u001b[38;5;28;01mreturn\u001b[39;00m func(\u001b[38;5;241m*\u001b[39margs, \u001b[38;5;241m*\u001b[39m\u001b[38;5;241m*\u001b[39mkwargs)\n\u001b[1;32m    132\u001b[0m \u001b[38;5;28;01mexcept\u001b[39;00m MilvusException \u001b[38;5;28;01mas\u001b[39;00m e:\n",
      "File \u001b[0;32m~/anaconda3/envs/milvus/lib/python3.12/site-packages/pymilvus/decorators.py:170\u001b[0m, in \u001b[0;36mtracing_request.<locals>.wrapper.<locals>.handler\u001b[0;34m(self, *args, **kwargs)\u001b[0m\n\u001b[1;32m    169\u001b[0m     \u001b[38;5;28mself\u001b[39m\u001b[38;5;241m.\u001b[39mset_onetime_request_id(req_id)\n\u001b[0;32m--> 170\u001b[0m \u001b[38;5;28;01mreturn\u001b[39;00m func(\u001b[38;5;28mself\u001b[39m, \u001b[38;5;241m*\u001b[39margs, \u001b[38;5;241m*\u001b[39m\u001b[38;5;241m*\u001b[39mkwargs)\n",
      "File \u001b[0;32m~/anaconda3/envs/milvus/lib/python3.12/site-packages/pymilvus/decorators.py:110\u001b[0m, in \u001b[0;36mretry_on_rpc_failure.<locals>.wrapper.<locals>.handler\u001b[0;34m(*args, **kwargs)\u001b[0m\n\u001b[1;32m    109\u001b[0m     \u001b[38;5;28;01melse\u001b[39;00m:\n\u001b[0;32m--> 110\u001b[0m         \u001b[38;5;28;01mraise\u001b[39;00m e \u001b[38;5;28;01mfrom\u001b[39;00m \u001b[38;5;21;01me\u001b[39;00m\n\u001b[1;32m    111\u001b[0m \u001b[38;5;28;01mexcept\u001b[39;00m \u001b[38;5;167;01mException\u001b[39;00m \u001b[38;5;28;01mas\u001b[39;00m e:\n",
      "File \u001b[0;32m~/anaconda3/envs/milvus/lib/python3.12/site-packages/pymilvus/decorators.py:74\u001b[0m, in \u001b[0;36mretry_on_rpc_failure.<locals>.wrapper.<locals>.handler\u001b[0;34m(*args, **kwargs)\u001b[0m\n\u001b[1;32m     73\u001b[0m \u001b[38;5;28;01mtry\u001b[39;00m:\n\u001b[0;32m---> 74\u001b[0m     \u001b[38;5;28;01mreturn\u001b[39;00m func(\u001b[38;5;241m*\u001b[39margs, \u001b[38;5;241m*\u001b[39m\u001b[38;5;241m*\u001b[39mkwargs)\n\u001b[1;32m     75\u001b[0m \u001b[38;5;28;01mexcept\u001b[39;00m grpc\u001b[38;5;241m.\u001b[39mRpcError \u001b[38;5;28;01mas\u001b[39;00m e:\n\u001b[1;32m     76\u001b[0m     \u001b[38;5;66;03m# Reference: https://grpc.github.io/grpc/python/grpc.html#grpc-status-code\u001b[39;00m\n",
      "File \u001b[0;32m~/anaconda3/envs/milvus/lib/python3.12/site-packages/pymilvus/client/grpc_handler.py:858\u001b[0m, in \u001b[0;36mGrpcHandler.create_index\u001b[0;34m(self, collection_name, field_name, params, timeout, **kwargs)\u001b[0m\n\u001b[1;32m    857\u001b[0m status \u001b[38;5;241m=\u001b[39m future\u001b[38;5;241m.\u001b[39mresult()\n\u001b[0;32m--> 858\u001b[0m check_status(status)\n\u001b[1;32m    860\u001b[0m \u001b[38;5;28;01mif\u001b[39;00m kwargs\u001b[38;5;241m.\u001b[39mget(\u001b[38;5;124m\"\u001b[39m\u001b[38;5;124msync\u001b[39m\u001b[38;5;124m\"\u001b[39m, \u001b[38;5;28;01mTrue\u001b[39;00m):\n",
      "File \u001b[0;32m~/anaconda3/envs/milvus/lib/python3.12/site-packages/pymilvus/client/utils.py:54\u001b[0m, in \u001b[0;36mcheck_status\u001b[0;34m(status)\u001b[0m\n\u001b[1;32m     53\u001b[0m \u001b[38;5;28;01mif\u001b[39;00m status\u001b[38;5;241m.\u001b[39mcode \u001b[38;5;241m!=\u001b[39m \u001b[38;5;241m0\u001b[39m \u001b[38;5;129;01mor\u001b[39;00m status\u001b[38;5;241m.\u001b[39merror_code \u001b[38;5;241m!=\u001b[39m \u001b[38;5;241m0\u001b[39m:\n\u001b[0;32m---> 54\u001b[0m     \u001b[38;5;28;01mraise\u001b[39;00m MilvusException(status\u001b[38;5;241m.\u001b[39mcode, status\u001b[38;5;241m.\u001b[39mreason, status\u001b[38;5;241m.\u001b[39merror_code)\n",
      "\u001b[0;31mMilvusException\u001b[0m: <MilvusException: (code=65535, message=parameter `m` not found)>",
      "\nThe above exception was the direct cause of the following exception:\n",
      "\u001b[0;31mMilvusException\u001b[0m                           Traceback (most recent call last)",
      "    \u001b[0;31m[... skipping hidden 1 frame]\u001b[0m\n",
      "Cell \u001b[0;32mIn[9], line 1\u001b[0m\n\u001b[0;32m----> 1\u001b[0m collection \u001b[38;5;241m=\u001b[39m create_milvus_collection(collection_name, dim)\n\u001b[1;32m      2\u001b[0m paths \u001b[38;5;241m=\u001b[39m df[\u001b[38;5;124m'\u001b[39m\u001b[38;5;124mpath\u001b[39m\u001b[38;5;124m'\u001b[39m]\u001b[38;5;241m.\u001b[39mtolist()\n",
      "Cell \u001b[0;32mIn[4], line 18\u001b[0m, in \u001b[0;36mcreate_milvus_collection\u001b[0;34m(collection_name, dim)\u001b[0m\n\u001b[1;32m     13\u001b[0m index_params \u001b[38;5;241m=\u001b[39m {\n\u001b[1;32m     14\u001b[0m     \u001b[38;5;124m'\u001b[39m\u001b[38;5;124mmetric_type\u001b[39m\u001b[38;5;124m'\u001b[39m: METRIC_TYPE,\n\u001b[1;32m     15\u001b[0m     \u001b[38;5;124m'\u001b[39m\u001b[38;5;124mindex_type\u001b[39m\u001b[38;5;124m'\u001b[39m: INDEX_TYPE,\n\u001b[1;32m     16\u001b[0m     \u001b[38;5;124m'\u001b[39m\u001b[38;5;124mparams\u001b[39m\u001b[38;5;124m'\u001b[39m: {\u001b[38;5;124m\"\u001b[39m\u001b[38;5;124mnlist\u001b[39m\u001b[38;5;124m\"\u001b[39m: \u001b[38;5;241m512\u001b[39m}\n\u001b[1;32m     17\u001b[0m }\n\u001b[0;32m---> 18\u001b[0m collection\u001b[38;5;241m.\u001b[39mcreate_index(field_name\u001b[38;5;241m=\u001b[39m\u001b[38;5;124m'\u001b[39m\u001b[38;5;124membedding\u001b[39m\u001b[38;5;124m'\u001b[39m, index_params\u001b[38;5;241m=\u001b[39mindex_params)\n\u001b[1;32m     19\u001b[0m \u001b[38;5;28;01mreturn\u001b[39;00m collection\n",
      "File \u001b[0;32m~/anaconda3/envs/milvus/lib/python3.12/site-packages/pymilvus/orm/collection.py:1218\u001b[0m, in \u001b[0;36mCollection.create_index\u001b[0;34m(self, field_name, index_params, timeout, **kwargs)\u001b[0m\n\u001b[1;32m   1217\u001b[0m conn \u001b[38;5;241m=\u001b[39m \u001b[38;5;28mself\u001b[39m\u001b[38;5;241m.\u001b[39m_get_connection()\n\u001b[0;32m-> 1218\u001b[0m \u001b[38;5;28;01mreturn\u001b[39;00m conn\u001b[38;5;241m.\u001b[39mcreate_index(\u001b[38;5;28mself\u001b[39m\u001b[38;5;241m.\u001b[39m_name, field_name, index_params, timeout\u001b[38;5;241m=\u001b[39mtimeout, \u001b[38;5;241m*\u001b[39m\u001b[38;5;241m*\u001b[39mkwargs)\n",
      "File \u001b[0;32m~/anaconda3/envs/milvus/lib/python3.12/site-packages/pymilvus/decorators.py:135\u001b[0m, in \u001b[0;36merror_handler.<locals>.wrapper.<locals>.handler\u001b[0;34m(*args, **kwargs)\u001b[0m\n\u001b[1;32m    134\u001b[0m     LOGGER\u001b[38;5;241m.\u001b[39merror(\u001b[38;5;124mf\u001b[39m\u001b[38;5;124m\"\u001b[39m\u001b[38;5;124mRPC error: [\u001b[39m\u001b[38;5;132;01m{\u001b[39;00minner_name\u001b[38;5;132;01m}\u001b[39;00m\u001b[38;5;124m], \u001b[39m\u001b[38;5;132;01m{\u001b[39;00me\u001b[38;5;132;01m}\u001b[39;00m\u001b[38;5;124m, <Time:\u001b[39m\u001b[38;5;132;01m{\u001b[39;00mrecord_dict\u001b[38;5;132;01m}\u001b[39;00m\u001b[38;5;124m>\u001b[39m\u001b[38;5;124m\"\u001b[39m)\n\u001b[0;32m--> 135\u001b[0m     \u001b[38;5;28;01mraise\u001b[39;00m e \u001b[38;5;28;01mfrom\u001b[39;00m \u001b[38;5;21;01me\u001b[39;00m\n\u001b[1;32m    136\u001b[0m \u001b[38;5;28;01mexcept\u001b[39;00m grpc\u001b[38;5;241m.\u001b[39mFutureTimeoutError \u001b[38;5;28;01mas\u001b[39;00m e:\n",
      "File \u001b[0;32m~/anaconda3/envs/milvus/lib/python3.12/site-packages/pymilvus/decorators.py:131\u001b[0m, in \u001b[0;36merror_handler.<locals>.wrapper.<locals>.handler\u001b[0;34m(*args, **kwargs)\u001b[0m\n\u001b[1;32m    130\u001b[0m     record_dict[\u001b[38;5;124m\"\u001b[39m\u001b[38;5;124mRPC start\u001b[39m\u001b[38;5;124m\"\u001b[39m] \u001b[38;5;241m=\u001b[39m \u001b[38;5;28mstr\u001b[39m(datetime\u001b[38;5;241m.\u001b[39mdatetime\u001b[38;5;241m.\u001b[39mnow())\n\u001b[0;32m--> 131\u001b[0m     \u001b[38;5;28;01mreturn\u001b[39;00m func(\u001b[38;5;241m*\u001b[39margs, \u001b[38;5;241m*\u001b[39m\u001b[38;5;241m*\u001b[39mkwargs)\n\u001b[1;32m    132\u001b[0m \u001b[38;5;28;01mexcept\u001b[39;00m MilvusException \u001b[38;5;28;01mas\u001b[39;00m e:\n",
      "File \u001b[0;32m~/anaconda3/envs/milvus/lib/python3.12/site-packages/pymilvus/decorators.py:170\u001b[0m, in \u001b[0;36mtracing_request.<locals>.wrapper.<locals>.handler\u001b[0;34m(self, *args, **kwargs)\u001b[0m\n\u001b[1;32m    169\u001b[0m     \u001b[38;5;28mself\u001b[39m\u001b[38;5;241m.\u001b[39mset_onetime_request_id(req_id)\n\u001b[0;32m--> 170\u001b[0m \u001b[38;5;28;01mreturn\u001b[39;00m func(\u001b[38;5;28mself\u001b[39m, \u001b[38;5;241m*\u001b[39margs, \u001b[38;5;241m*\u001b[39m\u001b[38;5;241m*\u001b[39mkwargs)\n",
      "File \u001b[0;32m~/anaconda3/envs/milvus/lib/python3.12/site-packages/pymilvus/decorators.py:110\u001b[0m, in \u001b[0;36mretry_on_rpc_failure.<locals>.wrapper.<locals>.handler\u001b[0;34m(*args, **kwargs)\u001b[0m\n\u001b[1;32m    109\u001b[0m     \u001b[38;5;28;01melse\u001b[39;00m:\n\u001b[0;32m--> 110\u001b[0m         \u001b[38;5;28;01mraise\u001b[39;00m e \u001b[38;5;28;01mfrom\u001b[39;00m \u001b[38;5;21;01me\u001b[39;00m\n\u001b[1;32m    111\u001b[0m \u001b[38;5;28;01mexcept\u001b[39;00m \u001b[38;5;167;01mException\u001b[39;00m \u001b[38;5;28;01mas\u001b[39;00m e:\n",
      "File \u001b[0;32m~/anaconda3/envs/milvus/lib/python3.12/site-packages/pymilvus/decorators.py:74\u001b[0m, in \u001b[0;36mretry_on_rpc_failure.<locals>.wrapper.<locals>.handler\u001b[0;34m(*args, **kwargs)\u001b[0m\n\u001b[1;32m     73\u001b[0m \u001b[38;5;28;01mtry\u001b[39;00m:\n\u001b[0;32m---> 74\u001b[0m     \u001b[38;5;28;01mreturn\u001b[39;00m func(\u001b[38;5;241m*\u001b[39margs, \u001b[38;5;241m*\u001b[39m\u001b[38;5;241m*\u001b[39mkwargs)\n\u001b[1;32m     75\u001b[0m \u001b[38;5;28;01mexcept\u001b[39;00m grpc\u001b[38;5;241m.\u001b[39mRpcError \u001b[38;5;28;01mas\u001b[39;00m e:\n\u001b[1;32m     76\u001b[0m     \u001b[38;5;66;03m# Reference: https://grpc.github.io/grpc/python/grpc.html#grpc-status-code\u001b[39;00m\n",
      "File \u001b[0;32m~/anaconda3/envs/milvus/lib/python3.12/site-packages/pymilvus/client/grpc_handler.py:858\u001b[0m, in \u001b[0;36mGrpcHandler.create_index\u001b[0;34m(self, collection_name, field_name, params, timeout, **kwargs)\u001b[0m\n\u001b[1;32m    857\u001b[0m status \u001b[38;5;241m=\u001b[39m future\u001b[38;5;241m.\u001b[39mresult()\n\u001b[0;32m--> 858\u001b[0m check_status(status)\n\u001b[1;32m    860\u001b[0m \u001b[38;5;28;01mif\u001b[39;00m kwargs\u001b[38;5;241m.\u001b[39mget(\u001b[38;5;124m\"\u001b[39m\u001b[38;5;124msync\u001b[39m\u001b[38;5;124m\"\u001b[39m, \u001b[38;5;28;01mTrue\u001b[39;00m):\n",
      "File \u001b[0;32m~/anaconda3/envs/milvus/lib/python3.12/site-packages/pymilvus/client/utils.py:54\u001b[0m, in \u001b[0;36mcheck_status\u001b[0;34m(status)\u001b[0m\n\u001b[1;32m     53\u001b[0m \u001b[38;5;28;01mif\u001b[39;00m status\u001b[38;5;241m.\u001b[39mcode \u001b[38;5;241m!=\u001b[39m \u001b[38;5;241m0\u001b[39m \u001b[38;5;129;01mor\u001b[39;00m status\u001b[38;5;241m.\u001b[39merror_code \u001b[38;5;241m!=\u001b[39m \u001b[38;5;241m0\u001b[39m:\n\u001b[0;32m---> 54\u001b[0m     \u001b[38;5;28;01mraise\u001b[39;00m MilvusException(status\u001b[38;5;241m.\u001b[39mcode, status\u001b[38;5;241m.\u001b[39mreason, status\u001b[38;5;241m.\u001b[39merror_code)\n",
      "\u001b[0;31mMilvusException\u001b[0m: <MilvusException: (code=65535, message=parameter `m` not found)>",
      "\nThe above exception was the direct cause of the following exception:\n",
      "\u001b[0;31mMilvusException\u001b[0m                           Traceback (most recent call last)",
      "Cell \u001b[0;32mIn[9], line 1\u001b[0m\n\u001b[0;32m----> 1\u001b[0m collection \u001b[38;5;241m=\u001b[39m create_milvus_collection(collection_name, dim)\n\u001b[1;32m      2\u001b[0m paths \u001b[38;5;241m=\u001b[39m df[\u001b[38;5;124m'\u001b[39m\u001b[38;5;124mpath\u001b[39m\u001b[38;5;124m'\u001b[39m]\u001b[38;5;241m.\u001b[39mtolist()\n\u001b[1;32m      3\u001b[0m entities \u001b[38;5;241m=\u001b[39m [[path \u001b[38;5;28;01mfor\u001b[39;00m path \u001b[38;5;129;01min\u001b[39;00m paths],\n\u001b[1;32m      4\u001b[0m             [embedding \u001b[38;5;28;01mfor\u001b[39;00m embedding \u001b[38;5;129;01min\u001b[39;00m embeddings]]\n",
      "Cell \u001b[0;32mIn[4], line 18\u001b[0m, in \u001b[0;36mcreate_milvus_collection\u001b[0;34m(collection_name, dim)\u001b[0m\n\u001b[1;32m     11\u001b[0m collection \u001b[38;5;241m=\u001b[39m Collection(name\u001b[38;5;241m=\u001b[39mcollection_name, schema\u001b[38;5;241m=\u001b[39mschema)\n\u001b[1;32m     13\u001b[0m index_params \u001b[38;5;241m=\u001b[39m {\n\u001b[1;32m     14\u001b[0m     \u001b[38;5;124m'\u001b[39m\u001b[38;5;124mmetric_type\u001b[39m\u001b[38;5;124m'\u001b[39m: METRIC_TYPE,\n\u001b[1;32m     15\u001b[0m     \u001b[38;5;124m'\u001b[39m\u001b[38;5;124mindex_type\u001b[39m\u001b[38;5;124m'\u001b[39m: INDEX_TYPE,\n\u001b[1;32m     16\u001b[0m     \u001b[38;5;124m'\u001b[39m\u001b[38;5;124mparams\u001b[39m\u001b[38;5;124m'\u001b[39m: {\u001b[38;5;124m\"\u001b[39m\u001b[38;5;124mnlist\u001b[39m\u001b[38;5;124m\"\u001b[39m: \u001b[38;5;241m512\u001b[39m}\n\u001b[1;32m     17\u001b[0m }\n\u001b[0;32m---> 18\u001b[0m collection\u001b[38;5;241m.\u001b[39mcreate_index(field_name\u001b[38;5;241m=\u001b[39m\u001b[38;5;124m'\u001b[39m\u001b[38;5;124membedding\u001b[39m\u001b[38;5;124m'\u001b[39m, index_params\u001b[38;5;241m=\u001b[39mindex_params)\n\u001b[1;32m     19\u001b[0m \u001b[38;5;28;01mreturn\u001b[39;00m collection\n",
      "File \u001b[0;32m~/anaconda3/envs/milvus/lib/python3.12/site-packages/pymilvus/orm/collection.py:1218\u001b[0m, in \u001b[0;36mCollection.create_index\u001b[0;34m(self, field_name, index_params, timeout, **kwargs)\u001b[0m\n\u001b[1;32m   1180\u001b[0m \u001b[38;5;250m\u001b[39m\u001b[38;5;124;03m\"\"\"Creates index for a specified field, with a index name.\u001b[39;00m\n\u001b[1;32m   1181\u001b[0m \n\u001b[1;32m   1182\u001b[0m \u001b[38;5;124;03mArgs:\u001b[39;00m\n\u001b[0;32m   (...)\u001b[0m\n\u001b[1;32m   1215\u001b[0m \u001b[38;5;124;03m    Status(code=0, message='')\u001b[39;00m\n\u001b[1;32m   1216\u001b[0m \u001b[38;5;124;03m\"\"\"\u001b[39;00m\n\u001b[1;32m   1217\u001b[0m conn \u001b[38;5;241m=\u001b[39m \u001b[38;5;28mself\u001b[39m\u001b[38;5;241m.\u001b[39m_get_connection()\n\u001b[0;32m-> 1218\u001b[0m \u001b[38;5;28;01mreturn\u001b[39;00m conn\u001b[38;5;241m.\u001b[39mcreate_index(\u001b[38;5;28mself\u001b[39m\u001b[38;5;241m.\u001b[39m_name, field_name, index_params, timeout\u001b[38;5;241m=\u001b[39mtimeout, \u001b[38;5;241m*\u001b[39m\u001b[38;5;241m*\u001b[39mkwargs)\n",
      "File \u001b[0;32m~/anaconda3/envs/milvus/lib/python3.12/site-packages/pymilvus/decorators.py:135\u001b[0m, in \u001b[0;36merror_handler.<locals>.wrapper.<locals>.handler\u001b[0;34m(*args, **kwargs)\u001b[0m\n\u001b[1;32m    133\u001b[0m     record_dict[\u001b[38;5;124m\"\u001b[39m\u001b[38;5;124mRPC error\u001b[39m\u001b[38;5;124m\"\u001b[39m] \u001b[38;5;241m=\u001b[39m \u001b[38;5;28mstr\u001b[39m(datetime\u001b[38;5;241m.\u001b[39mdatetime\u001b[38;5;241m.\u001b[39mnow())\n\u001b[1;32m    134\u001b[0m     LOGGER\u001b[38;5;241m.\u001b[39merror(\u001b[38;5;124mf\u001b[39m\u001b[38;5;124m\"\u001b[39m\u001b[38;5;124mRPC error: [\u001b[39m\u001b[38;5;132;01m{\u001b[39;00minner_name\u001b[38;5;132;01m}\u001b[39;00m\u001b[38;5;124m], \u001b[39m\u001b[38;5;132;01m{\u001b[39;00me\u001b[38;5;132;01m}\u001b[39;00m\u001b[38;5;124m, <Time:\u001b[39m\u001b[38;5;132;01m{\u001b[39;00mrecord_dict\u001b[38;5;132;01m}\u001b[39;00m\u001b[38;5;124m>\u001b[39m\u001b[38;5;124m\"\u001b[39m)\n\u001b[0;32m--> 135\u001b[0m     \u001b[38;5;28;01mraise\u001b[39;00m e \u001b[38;5;28;01mfrom\u001b[39;00m \u001b[38;5;21;01me\u001b[39;00m\n\u001b[1;32m    136\u001b[0m \u001b[38;5;28;01mexcept\u001b[39;00m grpc\u001b[38;5;241m.\u001b[39mFutureTimeoutError \u001b[38;5;28;01mas\u001b[39;00m e:\n\u001b[1;32m    137\u001b[0m     record_dict[\u001b[38;5;124m\"\u001b[39m\u001b[38;5;124mgRPC timeout\u001b[39m\u001b[38;5;124m\"\u001b[39m] \u001b[38;5;241m=\u001b[39m \u001b[38;5;28mstr\u001b[39m(datetime\u001b[38;5;241m.\u001b[39mdatetime\u001b[38;5;241m.\u001b[39mnow())\n",
      "File \u001b[0;32m~/anaconda3/envs/milvus/lib/python3.12/site-packages/pymilvus/decorators.py:131\u001b[0m, in \u001b[0;36merror_handler.<locals>.wrapper.<locals>.handler\u001b[0;34m(*args, **kwargs)\u001b[0m\n\u001b[1;32m    129\u001b[0m \u001b[38;5;28;01mtry\u001b[39;00m:\n\u001b[1;32m    130\u001b[0m     record_dict[\u001b[38;5;124m\"\u001b[39m\u001b[38;5;124mRPC start\u001b[39m\u001b[38;5;124m\"\u001b[39m] \u001b[38;5;241m=\u001b[39m \u001b[38;5;28mstr\u001b[39m(datetime\u001b[38;5;241m.\u001b[39mdatetime\u001b[38;5;241m.\u001b[39mnow())\n\u001b[0;32m--> 131\u001b[0m     \u001b[38;5;28;01mreturn\u001b[39;00m func(\u001b[38;5;241m*\u001b[39margs, \u001b[38;5;241m*\u001b[39m\u001b[38;5;241m*\u001b[39mkwargs)\n\u001b[1;32m    132\u001b[0m \u001b[38;5;28;01mexcept\u001b[39;00m MilvusException \u001b[38;5;28;01mas\u001b[39;00m e:\n\u001b[1;32m    133\u001b[0m     record_dict[\u001b[38;5;124m\"\u001b[39m\u001b[38;5;124mRPC error\u001b[39m\u001b[38;5;124m\"\u001b[39m] \u001b[38;5;241m=\u001b[39m \u001b[38;5;28mstr\u001b[39m(datetime\u001b[38;5;241m.\u001b[39mdatetime\u001b[38;5;241m.\u001b[39mnow())\n",
      "File \u001b[0;32m~/anaconda3/envs/milvus/lib/python3.12/site-packages/pymilvus/decorators.py:170\u001b[0m, in \u001b[0;36mtracing_request.<locals>.wrapper.<locals>.handler\u001b[0;34m(self, *args, **kwargs)\u001b[0m\n\u001b[1;32m    168\u001b[0m \u001b[38;5;28;01mif\u001b[39;00m req_id:\n\u001b[1;32m    169\u001b[0m     \u001b[38;5;28mself\u001b[39m\u001b[38;5;241m.\u001b[39mset_onetime_request_id(req_id)\n\u001b[0;32m--> 170\u001b[0m \u001b[38;5;28;01mreturn\u001b[39;00m func(\u001b[38;5;28mself\u001b[39m, \u001b[38;5;241m*\u001b[39margs, \u001b[38;5;241m*\u001b[39m\u001b[38;5;241m*\u001b[39mkwargs)\n",
      "File \u001b[0;32m~/anaconda3/envs/milvus/lib/python3.12/site-packages/pymilvus/decorators.py:110\u001b[0m, in \u001b[0;36mretry_on_rpc_failure.<locals>.wrapper.<locals>.handler\u001b[0;34m(*args, **kwargs)\u001b[0m\n\u001b[1;32m    108\u001b[0m         back_off \u001b[38;5;241m=\u001b[39m \u001b[38;5;28mmin\u001b[39m(back_off \u001b[38;5;241m*\u001b[39m back_off_multiplier, max_back_off)\n\u001b[1;32m    109\u001b[0m     \u001b[38;5;28;01melse\u001b[39;00m:\n\u001b[0;32m--> 110\u001b[0m         \u001b[38;5;28;01mraise\u001b[39;00m e \u001b[38;5;28;01mfrom\u001b[39;00m \u001b[38;5;21;01me\u001b[39;00m\n\u001b[1;32m    111\u001b[0m \u001b[38;5;28;01mexcept\u001b[39;00m \u001b[38;5;167;01mException\u001b[39;00m \u001b[38;5;28;01mas\u001b[39;00m e:\n\u001b[1;32m    112\u001b[0m     \u001b[38;5;28;01mraise\u001b[39;00m e \u001b[38;5;28;01mfrom\u001b[39;00m \u001b[38;5;21;01me\u001b[39;00m\n",
      "File \u001b[0;32m~/anaconda3/envs/milvus/lib/python3.12/site-packages/pymilvus/decorators.py:74\u001b[0m, in \u001b[0;36mretry_on_rpc_failure.<locals>.wrapper.<locals>.handler\u001b[0;34m(*args, **kwargs)\u001b[0m\n\u001b[1;32m     72\u001b[0m \u001b[38;5;28;01mwhile\u001b[39;00m \u001b[38;5;28;01mTrue\u001b[39;00m:\n\u001b[1;32m     73\u001b[0m     \u001b[38;5;28;01mtry\u001b[39;00m:\n\u001b[0;32m---> 74\u001b[0m         \u001b[38;5;28;01mreturn\u001b[39;00m func(\u001b[38;5;241m*\u001b[39margs, \u001b[38;5;241m*\u001b[39m\u001b[38;5;241m*\u001b[39mkwargs)\n\u001b[1;32m     75\u001b[0m     \u001b[38;5;28;01mexcept\u001b[39;00m grpc\u001b[38;5;241m.\u001b[39mRpcError \u001b[38;5;28;01mas\u001b[39;00m e:\n\u001b[1;32m     76\u001b[0m         \u001b[38;5;66;03m# Reference: https://grpc.github.io/grpc/python/grpc.html#grpc-status-code\u001b[39;00m\n\u001b[1;32m     77\u001b[0m         \u001b[38;5;28;01mif\u001b[39;00m e\u001b[38;5;241m.\u001b[39mcode() \u001b[38;5;129;01min\u001b[39;00m (\n\u001b[1;32m     78\u001b[0m             grpc\u001b[38;5;241m.\u001b[39mStatusCode\u001b[38;5;241m.\u001b[39mDEADLINE_EXCEEDED,\n\u001b[1;32m     79\u001b[0m             grpc\u001b[38;5;241m.\u001b[39mStatusCode\u001b[38;5;241m.\u001b[39mPERMISSION_DENIED,\n\u001b[0;32m   (...)\u001b[0m\n\u001b[1;32m     83\u001b[0m             grpc\u001b[38;5;241m.\u001b[39mStatusCode\u001b[38;5;241m.\u001b[39mRESOURCE_EXHAUSTED,\n\u001b[1;32m     84\u001b[0m         ):\n",
      "File \u001b[0;32m~/anaconda3/envs/milvus/lib/python3.12/site-packages/pymilvus/client/grpc_handler.py:858\u001b[0m, in \u001b[0;36mGrpcHandler.create_index\u001b[0;34m(self, collection_name, field_name, params, timeout, **kwargs)\u001b[0m\n\u001b[1;32m    855\u001b[0m     \u001b[38;5;28;01mreturn\u001b[39;00m index_future\n\u001b[1;32m    857\u001b[0m status \u001b[38;5;241m=\u001b[39m future\u001b[38;5;241m.\u001b[39mresult()\n\u001b[0;32m--> 858\u001b[0m check_status(status)\n\u001b[1;32m    860\u001b[0m \u001b[38;5;28;01mif\u001b[39;00m kwargs\u001b[38;5;241m.\u001b[39mget(\u001b[38;5;124m\"\u001b[39m\u001b[38;5;124msync\u001b[39m\u001b[38;5;124m\"\u001b[39m, \u001b[38;5;28;01mTrue\u001b[39;00m):\n\u001b[1;32m    861\u001b[0m     index_success, fail_reason \u001b[38;5;241m=\u001b[39m \u001b[38;5;28mself\u001b[39m\u001b[38;5;241m.\u001b[39mwait_for_creating_index(\n\u001b[1;32m    862\u001b[0m         collection_name\u001b[38;5;241m=\u001b[39mcollection_name,\n\u001b[1;32m    863\u001b[0m         index_name\u001b[38;5;241m=\u001b[39mindex_name,\n\u001b[1;32m    864\u001b[0m         timeout\u001b[38;5;241m=\u001b[39mtimeout,\n\u001b[1;32m    865\u001b[0m         field_name\u001b[38;5;241m=\u001b[39mfield_name,\n\u001b[1;32m    866\u001b[0m     )\n",
      "File \u001b[0;32m~/anaconda3/envs/milvus/lib/python3.12/site-packages/pymilvus/client/utils.py:54\u001b[0m, in \u001b[0;36mcheck_status\u001b[0;34m(status)\u001b[0m\n\u001b[1;32m     52\u001b[0m \u001b[38;5;28;01mdef\u001b[39;00m \u001b[38;5;21mcheck_status\u001b[39m(status: Status):\n\u001b[1;32m     53\u001b[0m     \u001b[38;5;28;01mif\u001b[39;00m status\u001b[38;5;241m.\u001b[39mcode \u001b[38;5;241m!=\u001b[39m \u001b[38;5;241m0\u001b[39m \u001b[38;5;129;01mor\u001b[39;00m status\u001b[38;5;241m.\u001b[39merror_code \u001b[38;5;241m!=\u001b[39m \u001b[38;5;241m0\u001b[39m:\n\u001b[0;32m---> 54\u001b[0m         \u001b[38;5;28;01mraise\u001b[39;00m MilvusException(status\u001b[38;5;241m.\u001b[39mcode, status\u001b[38;5;241m.\u001b[39mreason, status\u001b[38;5;241m.\u001b[39merror_code)\n",
      "\u001b[0;31mMilvusException\u001b[0m: <MilvusException: (code=65535, message=parameter `m` not found)>"
     ]
    }
   ],
   "source": [
    "collection = create_milvus_collection(collection_name, dim)\n",
    "paths = df['path'].tolist()\n",
    "entities = [[path for path in paths],\n",
    "            [embedding for embedding in embeddings]]\n",
    "mr = collection.insert(entities)\n"
   ]
  },
  {
   "cell_type": "code",
   "execution_count": 10,
   "id": "d4bef28c",
   "metadata": {},
   "outputs": [],
   "source": [
    "connections.connect(host=HOST, port=PORT)\n",
    "collection_name = 'inner_product_collection'\n",
    "dim = 512  # Dimension of the embeddings\n",
    "METRIC_TYPE = 'IP'  # You can choose 'L2', 'IP', etc., based on your requirement\n",
    "INDEX_TYPE = 'IVF_FLAT'  # Index type"
   ]
  },
  {
   "cell_type": "code",
   "execution_count": 11,
   "id": "ce21fa77",
   "metadata": {},
   "outputs": [],
   "source": [
    "collection = create_milvus_collection(collection_name, dim)\n",
    "paths = df['path'].tolist()\n",
    "entities = [[path for path in paths],\n",
    "            [embedding for embedding in embeddings]]\n",
    "mr = collection.insert(entities)\n"
   ]
  },
  {
   "cell_type": "code",
   "execution_count": 12,
   "id": "b05f7b9c",
   "metadata": {},
   "outputs": [
    {
     "data": {
      "text/plain": [
       "['tranformers_clip_patch16',\n",
       " 'eucledian_collection',\n",
       " 'cos_collection',\n",
       " 'text_image_search',\n",
       " 'default_collection',\n",
       " 'default',\n",
       " 'inner_product_collection']"
      ]
     },
     "execution_count": 12,
     "metadata": {},
     "output_type": "execute_result"
    }
   ],
   "source": [
    "utility.list_collections()"
   ]
  },
  {
   "cell_type": "code",
   "execution_count": 19,
   "id": "4fbfd613",
   "metadata": {},
   "outputs": [],
   "source": [
    "collection = Collection(name=collection_name)"
   ]
  },
  {
   "cell_type": "code",
   "execution_count": null,
   "id": "4a62d7a2",
   "metadata": {},
   "outputs": [],
   "source": []
  },
  {
   "cell_type": "code",
   "execution_count": 16,
   "id": "e8daca16",
   "metadata": {},
   "outputs": [],
   "source": [
    "#eucledian\n",
    "collection = Collection(name=\"eucledian_collection\")\n",
    "collection.load()"
   ]
  },
  {
   "cell_type": "code",
   "execution_count": 17,
   "id": "2a83ca65",
   "metadata": {},
   "outputs": [],
   "source": [
    "search_params = {\n",
    "    \"metric_type\": \"L2\", \n",
    "    \"offset\": 0, \n",
    "    \"ignore_growing\": False, \n",
    "    \"params\": {\"nprobe\": 10}\n",
    "}"
   ]
  },
  {
   "cell_type": "code",
   "execution_count": 18,
   "id": "b514ca79",
   "metadata": {},
   "outputs": [],
   "source": [
    "# search with text \n",
    "#patch 16\n",
    "query_text = \"airplane\"  \n",
    "text_inputs = processor(text=query_text, return_tensors=\"pt\")\n",
    "query_text_features = model.get_text_features(**text_inputs)\n",
    "text_embedding = query_text_features.squeeze(0).detach().numpy().tolist()\n",
    "\n",
    "text_embedding = text_embedding/np.linalg.norm(text_embedding)\n",
    "\n"
   ]
  },
  {
   "cell_type": "code",
   "execution_count": 19,
   "id": "6ac0ff22",
   "metadata": {},
   "outputs": [],
   "source": [
    "results = collection.search(\n",
    "    data=[text_embedding], \n",
    "    anns_field=\"embedding\", \n",
    "    # the sum of `offset` in `param` and `limit` \n",
    "    # should be less than 16384.\n",
    "    param=search_params,\n",
    "    limit=10,\n",
    "    expr=None,\n",
    ")\n",
    "\n"
   ]
  },
  {
   "cell_type": "code",
   "execution_count": 20,
   "id": "eb3246cd",
   "metadata": {
    "scrolled": true
   },
   "outputs": [
    {
     "data": {
      "text/plain": [
       "['./train/warplane/n04552348_16150.JPEG',\n",
       " './train/parachute/n03888257_4738.JPEG',\n",
       " './train/warplane/n04552348_13334.JPEG',\n",
       " './train/warplane/n04552348_12780.JPEG',\n",
       " './train/parachute/n03888257_25150.JPEG',\n",
       " './train/horizontal_bar/n03535780_40969.JPEG',\n",
       " './train/can_opener/n02951585_32431.JPEG',\n",
       " './train/bullet_train/n02917067_12974.JPEG',\n",
       " './train/parachute/n03888257_13175.JPEG',\n",
       " './train/can_opener/n02951585_24077.JPEG']"
      ]
     },
     "execution_count": 20,
     "metadata": {},
     "output_type": "execute_result"
    }
   ],
   "source": [
    "results[0].ids"
   ]
  },
  {
   "cell_type": "code",
   "execution_count": 28,
   "id": "860164f6",
   "metadata": {},
   "outputs": [
    {
     "data": {
      "text/plain": [
       "[0.2719953656196594,\n",
       " 0.24478015303611755,\n",
       " 0.24317307770252228,\n",
       " 0.23824922740459442,\n",
       " 0.23627306520938873,\n",
       " 0.23189441859722137,\n",
       " 0.22985076904296875,\n",
       " 0.22882045805454254,\n",
       " 0.22614918649196625,\n",
       " 0.2248741090297699]"
      ]
     },
     "execution_count": 28,
     "metadata": {},
     "output_type": "execute_result"
    }
   ],
   "source": [
    "results[0].distances"
   ]
  },
  {
   "cell_type": "code",
   "execution_count": null,
   "id": "f8ca108d",
   "metadata": {},
   "outputs": [],
   "source": []
  },
  {
   "cell_type": "code",
   "execution_count": 22,
   "id": "214754fe",
   "metadata": {},
   "outputs": [],
   "source": [
    "#eucledian\n",
    "collection = Collection(name=\"inner_product_collection\")\n",
    "collection.load()"
   ]
  },
  {
   "cell_type": "code",
   "execution_count": 23,
   "id": "c9a5fa31",
   "metadata": {},
   "outputs": [],
   "source": [
    "search_params = {\n",
    "    \"metric_type\": \"IP\", \n",
    "    \"offset\": 0, \n",
    "    \"ignore_growing\": False, \n",
    "    \"params\": {\"nprobe\": 10}\n",
    "}"
   ]
  },
  {
   "cell_type": "code",
   "execution_count": 24,
   "id": "3e746727",
   "metadata": {},
   "outputs": [],
   "source": [
    "# search with text \n",
    "#patch 16\n",
    "query_text = \"airplane\"  \n",
    "text_inputs = processor(text=query_text, return_tensors=\"pt\")\n",
    "query_text_features = model.get_text_features(**text_inputs)\n",
    "text_embedding = query_text_features.squeeze(0).detach().numpy().tolist()\n",
    "\n",
    "text_embedding = text_embedding/np.linalg.norm(text_embedding)\n",
    "\n"
   ]
  },
  {
   "cell_type": "code",
   "execution_count": 25,
   "id": "ee0e7435",
   "metadata": {},
   "outputs": [],
   "source": []
  },
  {
   "cell_type": "code",
   "execution_count": 26,
   "id": "12a05235",
   "metadata": {},
   "outputs": [
    {
     "data": {
      "text/plain": [
       "['./train/warplane/n04552348_16150.JPEG',\n",
       " './train/parachute/n03888257_4738.JPEG',\n",
       " './train/warplane/n04552348_13334.JPEG',\n",
       " './train/warplane/n04552348_12780.JPEG',\n",
       " './train/parachute/n03888257_25150.JPEG',\n",
       " './train/horizontal_bar/n03535780_40969.JPEG',\n",
       " './train/can_opener/n02951585_32431.JPEG',\n",
       " './train/bullet_train/n02917067_12974.JPEG',\n",
       " './train/parachute/n03888257_13175.JPEG',\n",
       " './train/can_opener/n02951585_24077.JPEG']"
      ]
     },
     "execution_count": 26,
     "metadata": {},
     "output_type": "execute_result"
    }
   ],
   "source": [
    "results[0].ids"
   ]
  },
  {
   "cell_type": "code",
   "execution_count": 27,
   "id": "4b220125",
   "metadata": {},
   "outputs": [
    {
     "data": {
      "text/plain": [
       "[0.2719953656196594,\n",
       " 0.24478015303611755,\n",
       " 0.24317307770252228,\n",
       " 0.23824922740459442,\n",
       " 0.23627306520938873,\n",
       " 0.23189441859722137,\n",
       " 0.22985076904296875,\n",
       " 0.22882045805454254,\n",
       " 0.22614918649196625,\n",
       " 0.2248741090297699]"
      ]
     },
     "execution_count": 27,
     "metadata": {},
     "output_type": "execute_result"
    }
   ],
   "source": [
    "results[0].distances"
   ]
  },
  {
   "cell_type": "code",
   "execution_count": null,
   "id": "11499f60",
   "metadata": {},
   "outputs": [],
   "source": []
  }
 ],
 "metadata": {
  "kernelspec": {
   "display_name": "Python [conda env:milvus]",
   "language": "python",
   "name": "conda-env-milvus-py"
  },
  "language_info": {
   "codemirror_mode": {
    "name": "ipython",
    "version": 3
   },
   "file_extension": ".py",
   "mimetype": "text/x-python",
   "name": "python",
   "nbconvert_exporter": "python",
   "pygments_lexer": "ipython3",
   "version": "3.12.1"
  }
 },
 "nbformat": 4,
 "nbformat_minor": 5
}
